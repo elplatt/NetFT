{
 "cells": [
  {
   "cell_type": "code",
   "execution_count": 1,
   "metadata": {
    "collapsed": false
   },
   "outputs": [
    {
     "name": "stdout",
     "output_type": "stream",
     "text": [
      "Populating the interactive namespace from numpy and matplotlib\n"
     ]
    }
   ],
   "source": [
    "%pylab inline\n",
    "import random\n",
    "import re\n",
    "import sys\n",
    "import time\n",
    "from multiprocessing import Process, Queue\n",
    "import networkx as nx\n",
    "import networkx.algorithms.centrality as nxcent\n",
    "import networkx.algorithms.distance_measures as nxdist\n",
    "import networkx.algorithms.components as nxcomp\n",
    "import numpy as np\n",
    "import elp_networks as elpnet\n",
    "import elp_networks.algorithms as elpalg\n",
    "import logbook"
   ]
  },
  {
   "cell_type": "code",
   "execution_count": 2,
   "metadata": {
    "collapsed": true
   },
   "outputs": [],
   "source": [
    "net_file = \"external/as20000102.csv\"\n",
    "exp_name = \"simulate_router\""
   ]
  },
  {
   "cell_type": "code",
   "execution_count": 43,
   "metadata": {
    "collapsed": false
   },
   "outputs": [],
   "source": [
    "def rewire_butterfly(g, fraction):\n",
    "    m = 7\n",
    "    butterfly = elpnet.Butterfly(m)\n",
    "    num_bnodes = m*2**m\n",
    "    # Only sample nodes that can be completely rewired\n",
    "    # This list maps butterfly node labels to router node labels\n",
    "    rewire_nodes = random.sample([n for n in g.nodes() if len(g.neighbors(n)) >= 4], num_bnodes)\n",
    "    random.shuffle(rewire_nodes)\n",
    "    router_to_bf = dict([(r, b) for b, r in enumerate(rewire_nodes)])\n",
    "    # Create list of possible edges that haven't been rewired yet.\n",
    "    # Data is stored both as edge list and node->neighbors dict for easy sampling and updating.\n",
    "    router_neighbors = {}\n",
    "    router_edges = set()\n",
    "    for v in rewire_nodes:\n",
    "        # Only include edges with both ends in rewire set\n",
    "        for w in g.neighbors(v):\n",
    "            if w != v and w in rewire_nodes:\n",
    "                try:\n",
    "                    router_neighbors[v].add(w)\n",
    "                except KeyError:\n",
    "                    router_neighbors[v] = set([w])\n",
    "                try:\n",
    "                    router_neighbors[w].add(v)\n",
    "                except KeyError:\n",
    "                    router_neighbors[w] = set([v])\n",
    "                router_edges.add( tuple(sorted([v,w])) )\n",
    "    # Repeat for butterfly edges\n",
    "    bfly_neighbors = {}\n",
    "    bfly_edges = set()\n",
    "    for bv in butterfly.int_nodes():\n",
    "        for bw in butterfly.int_neighbors(bv):\n",
    "            try:\n",
    "                bfly_neighbors[bv].add(bw)\n",
    "            except KeyError:\n",
    "                bfly_neighbors[bv] = set([bw])\n",
    "            try:\n",
    "                bfly_neighbors[bw].add(bv)\n",
    "            except KeyError:\n",
    "                bfly_neighbors[bw] = set([bv])\n",
    "            bfly_edges.add( tuple(sorted([bv,bw])) )\n",
    "    # Calculate number of rewirings and perform them\n",
    "    to_rewire = round(fraction * len(router_edges))\n",
    "    complete = 0\n",
    "    while complete < to_rewire:\n",
    "        # Choose a remaining edge from the router network\n",
    "        try:\n",
    "            v, w = random.choice(list(router_edges))\n",
    "        except IndexError:\n",
    "            print \"No valid edges remaining\"\n",
    "            print complete, to_rewire\n",
    "        # Remove from graph and remaining edges\n",
    "        g.remove_edge(v, w)\n",
    "        router_edges.remove( (v,w) )\n",
    "        router_neighbors[v].remove(w)\n",
    "        router_neighbors[w].remove(v)\n",
    "        # Find all possible rewirings\n",
    "        bfly_rewirings = set()\n",
    "        if v in rewire_nodes:\n",
    "            # Find corresponding butterfly node and its remaining neighbors\n",
    "            bv = router_to_bf[v]\n",
    "            bfly_rewirings |= set([tuple(sorted([bv, bw])) for bw in bfly_neighbors[bv]])\n",
    "        if w in rewire_nodes:\n",
    "            bw = router_to_bf[w]\n",
    "            bfly_rewirings |= set([tuple(sorted([bv, bw])) for bv in bfly_neighbors[bw]])\n",
    "        # Choose one rewiring\n",
    "        if len(bfly_rewirings) == 0:\n",
    "            # Our chosen nodes have no corresponding butterfly edges left to rewire\n",
    "            # Remove them from the list of options\n",
    "            if v in rewire_nodes:\n",
    "                for t in list(router_neighbors[v]):\n",
    "                    if t == w:\n",
    "                        continue # Edges and neighbors removed when chosen\n",
    "                    router_edges.remove(tuple(sorted([v,t])))\n",
    "                    router_neighbors[v].remove(t)\n",
    "                    router_neighbors[t].remove(v)\n",
    "            if w in rewire_nodes:\n",
    "                for t in list(router_neighbors[w]):\n",
    "                    if t == v:\n",
    "                        continue # Edge and neighbors removed when chosen\n",
    "                    router_edges.remove(tuple(sorted([w,t])))\n",
    "                    router_neighbors[w].remove(t)\n",
    "                    router_neighbors[t].remove(w)\n",
    "            continue\n",
    "        bv, bw = random.choice(list(bfly_rewirings))\n",
    "        # Remove butterfly edge from remaining\n",
    "        bfly_edges.remove( (bv, bw) )\n",
    "        bfly_neighbors[bv].remove(bw)\n",
    "        bfly_neighbors[bw].remove(bv)\n",
    "        # Add rewired edge to graph\n",
    "        new_v, new_w = rewire_nodes[bv], rewire_nodes[bw]\n",
    "        g.add_edge(new_v, new_w)\n",
    "        complete += 1"
   ]
  },
  {
   "cell_type": "code",
   "execution_count": 4,
   "metadata": {
    "collapsed": true
   },
   "outputs": [],
   "source": [
    "edge_list = []\n",
    "whitespace = re.compile(r\"\\w+\")\n",
    "nodes = set()\n",
    "with open(net_file, \"rb\") as f:\n",
    "    for row in f:\n",
    "        if row.startswith(\"#\"):\n",
    "            continue\n",
    "        source, target = re.split(r\"\\W+\", row.strip())\n",
    "        source = int(source.strip())\n",
    "        target = int(target.strip())\n",
    "        nodes.add(source)\n",
    "        nodes.add(target)\n",
    "        edge_list.append( (source,target) )\n",
    "node_count = len(nodes)"
   ]
  },
  {
   "cell_type": "code",
   "execution_count": null,
   "metadata": {
    "collapsed": true
   },
   "outputs": [],
   "source": [
    "def do_centrality_work(edge_list):\n",
    "    g = nx.Graph(edge_list)\n",
    "    centralities = nxcent.betweenness_centrality(g, normalized=False)\n",
    "    v, c = max(centralities.iteritems(), key=lambda x: x[1])\n",
    "    return v, c\n",
    "\n",
    "def centrality_worker(edges_q, component_inq, centrality_outq):\n",
    "    while True:\n",
    "        edge_list = edges_q.get()\n",
    "        component_inq.put(edge_list)\n",
    "        v, c = do_centrality_work(edge_list)\n",
    "        centrality_outq.put((v,c))\n",
    "        if c > 0:\n",
    "            next_edges = [(s,t) for s,t in edge_list if s != v and t != v]\n",
    "            edges_q.put(next_edges)"
   ]
  },
  {
   "cell_type": "code",
   "execution_count": null,
   "metadata": {
    "collapsed": true
   },
   "outputs": [],
   "source": [
    "def do_component_work(edge_list):\n",
    "    g = nx.Graph(edge_list)\n",
    "    return list(nxcomp.connected_components(g))\n",
    "\n",
    "def component_worker(component_inq, diameter_inq, size_inq):\n",
    "    while True:\n",
    "        edge_list = component_inq.get()\n",
    "        components = do_component_work(edge_list)\n",
    "        diameter_inq.put( (components, edge_list) )\n",
    "        size_inq.put(components)"
   ]
  },
  {
   "cell_type": "code",
   "execution_count": null,
   "metadata": {
    "collapsed": true
   },
   "outputs": [],
   "source": [
    "def do_diameter_work(components, edge_list):\n",
    "    giant_nodes = set(max(components, key=len))\n",
    "    giant_edges = []\n",
    "    for source, target in edge_list:\n",
    "        if source in giant_nodes and target in giant_nodes:\n",
    "            giant_edges.append( (source, target) )\n",
    "    g = nx.Graph(giant_edges)\n",
    "    return nxdist.diameter(g)\n",
    "\n",
    "def diameter_worker(diameter_inq, diameter_outq):\n",
    "    while True:\n",
    "        components, edge_list = diameter_inq.get()\n",
    "        diameter = do_diameter_work(components, edge_list)\n",
    "        diameter_outq.put(diameter)"
   ]
  },
  {
   "cell_type": "code",
   "execution_count": null,
   "metadata": {
    "collapsed": true
   },
   "outputs": [],
   "source": [
    "def do_size_work(components):\n",
    "    giant_nodes = max(components, key=len)\n",
    "    total = sum([len(x) for x in components])\n",
    "    try:\n",
    "        result = float(total - len(giant_nodes)) / float(len(components) - 1)\n",
    "    except ZeroDivisionError:\n",
    "        result = 0\n",
    "    return result\n",
    "\n",
    "def size_worker(size_inq, size_outq):\n",
    "    while True:\n",
    "        components = size_inq.get()\n",
    "        size_outq.put(do_size_work(components))"
   ]
  },
  {
   "cell_type": "code",
   "execution_count": null,
   "metadata": {
    "collapsed": true
   },
   "outputs": [],
   "source": [
    "edges_q = Queue()\n",
    "centrality_outq = Queue()\n",
    "component_inq = Queue()\n",
    "diameter_inq = Queue()\n",
    "diameter_outq = Queue()\n",
    "size_inq = Queue()\n",
    "size_outq = Queue()\n",
    "\n",
    "edges_q.put(edge_list)\n",
    "\n",
    "workers = []\n",
    "workers.append(Process(target=centrality_worker, args=(edges_q, component_inq, centrality_outq)))\n",
    "workers.append(Process(target=component_worker, args=(component_inq, diameter_inq, size_inq)))\n",
    "workers.append(Process(target=diameter_worker, args=(diameter_inq, diameter_outq)))\n",
    "workers.append(Process(target=size_worker, args=(size_inq, size_outq)))\n",
    "\n",
    "for w in workers:\n",
    "    w.daemon = True\n",
    "    w.start()\n",
    "    \n",
    "exp = logbook.Experiment(exp_name)\n",
    "log = exp.get_logger()\n",
    "with open(exp.get_filename(\"targeted_router.csv\"), \"wb\") as out:\n",
    "    log.info(\"Starting\")\n",
    "    finished = 0\n",
    "    out.write(\"removed,diameter,size,high_label,high_betweenness,node_count\\n\")\n",
    "    while finished < node_count:\n",
    "        log.info(\"Iteration {}\".format(finished))\n",
    "        log.info(\"  Finding betweenness\")\n",
    "        label, centrality = centrality_outq.get()\n",
    "        log.info(\"  Finding diameter\")\n",
    "        diameter = diameter_outq.get()\n",
    "        log.info(\"  Finding size\")\n",
    "        size = size_outq.get()\n",
    "        log.info(\"  Writing row\")\n",
    "        row = [finished, diameter, size, label, centrality, node_count]\n",
    "        out.write(\",\".join([str(d) for d in row]) + \"\\n\")\n",
    "        out.flush()\n",
    "        finished += 1\n",
    "        if centrality == 0:\n",
    "            break\n",
    "log.info(\"Finished successfully\")\n"
   ]
  },
  {
   "cell_type": "code",
   "execution_count": 45,
   "metadata": {
    "collapsed": false
   },
   "outputs": [
    {
     "name": "stdout",
     "output_type": "stream",
     "text": [
      "No valid edges remaining\n",
      "1114 1140.0\n"
     ]
    },
    {
     "ename": "NetworkXError",
     "evalue": "The edge 899-3650 is not in the graph",
     "output_type": "error",
     "traceback": [
      "\u001b[0;31m---------------------------------------------------------------------------\u001b[0m",
      "\u001b[0;31mNetworkXError\u001b[0m                             Traceback (most recent call last)",
      "\u001b[0;32m<ipython-input-45-78d83b042393>\u001b[0m in \u001b[0;36m<module>\u001b[0;34m()\u001b[0m\n\u001b[1;32m      1\u001b[0m \u001b[0mg\u001b[0m \u001b[0;34m=\u001b[0m \u001b[0mnx\u001b[0m\u001b[0;34m.\u001b[0m\u001b[0mGraph\u001b[0m\u001b[0;34m(\u001b[0m\u001b[0medge_list\u001b[0m\u001b[0;34m)\u001b[0m\u001b[0;34m\u001b[0m\u001b[0m\n\u001b[0;32m----> 2\u001b[0;31m \u001b[0mrewire_butterfly\u001b[0m\u001b[0;34m(\u001b[0m\u001b[0mg\u001b[0m\u001b[0;34m,\u001b[0m \u001b[0;36m0.5\u001b[0m\u001b[0;34m)\u001b[0m\u001b[0;34m\u001b[0m\u001b[0m\n\u001b[0m",
      "\u001b[0;32m<ipython-input-43-a76553523e35>\u001b[0m in \u001b[0;36mrewire_butterfly\u001b[0;34m(g, fraction)\u001b[0m\n\u001b[1;32m     50\u001b[0m             \u001b[0;32mprint\u001b[0m \u001b[0mcomplete\u001b[0m\u001b[0;34m,\u001b[0m \u001b[0mto_rewire\u001b[0m\u001b[0;34m\u001b[0m\u001b[0m\n\u001b[1;32m     51\u001b[0m         \u001b[0;31m# Remove from graph and remaining edges\u001b[0m\u001b[0;34m\u001b[0m\u001b[0;34m\u001b[0m\u001b[0m\n\u001b[0;32m---> 52\u001b[0;31m         \u001b[0mg\u001b[0m\u001b[0;34m.\u001b[0m\u001b[0mremove_edge\u001b[0m\u001b[0;34m(\u001b[0m\u001b[0mv\u001b[0m\u001b[0;34m,\u001b[0m \u001b[0mw\u001b[0m\u001b[0;34m)\u001b[0m\u001b[0;34m\u001b[0m\u001b[0m\n\u001b[0m\u001b[1;32m     53\u001b[0m         \u001b[0mrouter_edges\u001b[0m\u001b[0;34m.\u001b[0m\u001b[0mremove\u001b[0m\u001b[0;34m(\u001b[0m \u001b[0;34m(\u001b[0m\u001b[0mv\u001b[0m\u001b[0;34m,\u001b[0m\u001b[0mw\u001b[0m\u001b[0;34m)\u001b[0m \u001b[0;34m)\u001b[0m\u001b[0;34m\u001b[0m\u001b[0m\n\u001b[1;32m     54\u001b[0m         \u001b[0mrouter_neighbors\u001b[0m\u001b[0;34m[\u001b[0m\u001b[0mv\u001b[0m\u001b[0;34m]\u001b[0m\u001b[0;34m.\u001b[0m\u001b[0mremove\u001b[0m\u001b[0;34m(\u001b[0m\u001b[0mw\u001b[0m\u001b[0;34m)\u001b[0m\u001b[0;34m\u001b[0m\u001b[0m\n",
      "\u001b[0;32m/home/elplatt/NetFT/venv/local/lib/python2.7/site-packages/networkx/classes/graph.pyc\u001b[0m in \u001b[0;36mremove_edge\u001b[0;34m(self, u, v)\u001b[0m\n\u001b[1;32m    941\u001b[0m                 \u001b[0;32mdel\u001b[0m \u001b[0mself\u001b[0m\u001b[0;34m.\u001b[0m\u001b[0madj\u001b[0m\u001b[0;34m[\u001b[0m\u001b[0mv\u001b[0m\u001b[0;34m]\u001b[0m\u001b[0;34m[\u001b[0m\u001b[0mu\u001b[0m\u001b[0;34m]\u001b[0m\u001b[0;34m\u001b[0m\u001b[0m\n\u001b[1;32m    942\u001b[0m         \u001b[0;32mexcept\u001b[0m \u001b[0mKeyError\u001b[0m\u001b[0;34m:\u001b[0m\u001b[0;34m\u001b[0m\u001b[0m\n\u001b[0;32m--> 943\u001b[0;31m             \u001b[0;32mraise\u001b[0m \u001b[0mNetworkXError\u001b[0m\u001b[0;34m(\u001b[0m\u001b[0;34m\"The edge %s-%s is not in the graph\"\u001b[0m \u001b[0;34m%\u001b[0m \u001b[0;34m(\u001b[0m\u001b[0mu\u001b[0m\u001b[0;34m,\u001b[0m \u001b[0mv\u001b[0m\u001b[0;34m)\u001b[0m\u001b[0;34m)\u001b[0m\u001b[0;34m\u001b[0m\u001b[0m\n\u001b[0m\u001b[1;32m    944\u001b[0m \u001b[0;34m\u001b[0m\u001b[0m\n\u001b[1;32m    945\u001b[0m     \u001b[0;32mdef\u001b[0m \u001b[0mremove_edges_from\u001b[0m\u001b[0;34m(\u001b[0m\u001b[0mself\u001b[0m\u001b[0;34m,\u001b[0m \u001b[0mebunch\u001b[0m\u001b[0;34m)\u001b[0m\u001b[0;34m:\u001b[0m\u001b[0;34m\u001b[0m\u001b[0m\n",
      "\u001b[0;31mNetworkXError\u001b[0m: The edge 899-3650 is not in the graph"
     ]
    }
   ],
   "source": [
    "g = nx.Graph(edge_list)\n",
    "rewire_butterfly(g, 0.5)"
   ]
  },
  {
   "cell_type": "code",
   "execution_count": 16,
   "metadata": {
    "collapsed": false
   },
   "outputs": [
    {
     "data": {
      "text/plain": [
       "[24, 4662, 2821, 6]"
      ]
     },
     "execution_count": 16,
     "metadata": {},
     "output_type": "execute_result"
    }
   ],
   "source": [
    "g.neighbors(4662)"
   ]
  },
  {
   "cell_type": "code",
   "execution_count": null,
   "metadata": {
    "collapsed": false
   },
   "outputs": [],
   "source": [
    "list(elpnet.Butterfly(3).nodes())"
   ]
  },
  {
   "cell_type": "code",
   "execution_count": null,
   "metadata": {
    "collapsed": true
   },
   "outputs": [],
   "source": []
  }
 ],
 "metadata": {
  "kernelspec": {
   "display_name": "Python 2",
   "language": "python",
   "name": "python2"
  },
  "language_info": {
   "codemirror_mode": {
    "name": "ipython",
    "version": 2
   },
   "file_extension": ".py",
   "mimetype": "text/x-python",
   "name": "python",
   "nbconvert_exporter": "python",
   "pygments_lexer": "ipython2",
   "version": "2.7.6"
  }
 },
 "nbformat": 4,
 "nbformat_minor": 2
}

{
 "cells": [
  {
   "cell_type": "code",
   "execution_count": 3,
   "metadata": {
    "collapsed": false
   },
   "outputs": [],
   "source": [
    "import math\n",
    "import os\n",
    "import random\n",
    "import re\n",
    "import sys\n",
    "import time\n",
    "from multiprocessing import Process, Queue\n",
    "import networkx as nx\n",
    "from networkx.algorithms.components import connected_components\n",
    "from networkx.algorithms.connectivity import node_connectivity\n",
    "from networkx.algorithms.centrality.betweenness import betweenness_centrality\n",
    "from networkx.algorithms.distance_measures import diameter\n",
    "import numpy as np\n",
    "import elp_networks as elpnet\n",
    "import elp_networks.algorithms as elpalg\n",
    "import logbook"
   ]
  },
  {
   "cell_type": "code",
   "execution_count": 2,
   "metadata": {
    "collapsed": false
   },
   "outputs": [
    {
     "data": {
      "text/plain": [
       "4"
      ]
     },
     "execution_count": 2,
     "metadata": {},
     "output_type": "execute_result"
    }
   ],
   "source": [
    "b = elpnet.Butterfly(8)\n",
    "g = nx.Graph(b.edges())\n",
    "node_connectivity(g)"
   ]
  },
  {
   "cell_type": "code",
   "execution_count": 5,
   "metadata": {
    "collapsed": true
   },
   "outputs": [],
   "source": [
    "def sample_pairs(nodes, num):\n",
    "    # Sample sources and targets\n",
    "    sources = random.sample(nodes, num)\n",
    "    targets = random.sample(nodes, num)\n",
    "    # Replace self loops\n",
    "    for i in range(num - 1):\n",
    "        if sources[i] == targets[i]:\n",
    "            sources[i], sources[-1] = sources[-1], sources[i]\n",
    "    if sources[-1] == targets[-1]:\n",
    "        sources[-1] = random.choice(set(nodes) - set(sources))\n",
    "    return zip(sources, targets)\n",
    "    \n",
    "def expand(g, source, radius):\n",
    "    if radius == 0:\n",
    "        return\n",
    "    # Get all nodes within radius\n",
    "    ego = set(nx.ego_graph(g, source, radius=radius).nodes())\n",
    "    # Keep track of the boundary and remove nodes within radius\n",
    "    boundary = set()\n",
    "    for v in ego:\n",
    "        if v == source:\n",
    "            continue\n",
    "        boundary |= set(nx.neighbors(g, v))\n",
    "        g.remove_node(v)\n",
    "    # Add edges from source to boundary\n",
    "    for v in boundary:\n",
    "        if v == source or v in ego:\n",
    "            continue\n",
    "        g.add_edge(source, v)\n",
    "        "
   ]
  },
  {
   "cell_type": "code",
   "execution_count": 9,
   "metadata": {
    "collapsed": false
   },
   "outputs": [],
   "source": [
    "pairs = sample_pairs(g.nodes(), 10)\n",
    "# Calculate connectivity for sampled pairs\n",
    "connectivities = []\n",
    "for source, target in pairs:\n",
    "    expanded = g.copy()\n",
    "    expand(expanded, source, 2)\n",
    "    try:\n",
    "        expand(expanded, target, 2)\n",
    "    except KeyError:\n",
    "        # Target was removed in expansion\n",
    "        target = source\n",
    "    c = node_connectivity(expanded, source, target)\n",
    "    connectivities.append(c)\n",
    "# Calculate statistics\n",
    "mean = np.mean(connectivities)\n",
    "std = np.std(connectivities, ddof=1)\n",
    "se = mean / np.sqrt(len(connectivities))\n"
   ]
  },
  {
   "cell_type": "code",
   "execution_count": 29,
   "metadata": {
    "collapsed": false
   },
   "outputs": [
    {
     "data": {
      "text/plain": [
       "4"
      ]
     },
     "execution_count": 29,
     "metadata": {},
     "output_type": "execute_result"
    }
   ],
   "source": [
    "s, t\n",
    "nx.node_connectivity(g, s, s)"
   ]
  },
  {
   "cell_type": "code",
   "execution_count": 7,
   "metadata": {
    "collapsed": false
   },
   "outputs": [
    {
     "data": {
      "text/html": [
       "<div>\n",
       "<table border=\"1\" class=\"dataframe\">\n",
       "  <thead>\n",
       "    <tr style=\"text-align: right;\">\n",
       "      <th></th>\n",
       "      <th>removed</th>\n",
       "      <th>diameter</th>\n",
       "      <th>size</th>\n",
       "      <th>node_conn0_mean</th>\n",
       "      <th>node_conn0_se</th>\n",
       "      <th>node_conn1_mean</th>\n",
       "      <th>node_conn1_se</th>\n",
       "      <th>node_conn2_mean</th>\n",
       "      <th>node_conn2_se</th>\n",
       "      <th>node_conn3_mean</th>\n",
       "      <th>node_conn3_se</th>\n",
       "      <th>node_conn_pairs</th>\n",
       "      <th>failed</th>\n",
       "      <th>high_betweenness</th>\n",
       "      <th>node_count</th>\n",
       "      <th>rewire_f</th>\n",
       "      <th>butterfly_m</th>\n",
       "      <th>failure_type</th>\n",
       "    </tr>\n",
       "  </thead>\n",
       "  <tbody>\n",
       "    <tr>\n",
       "      <th>0</th>\n",
       "      <td>0</td>\n",
       "      <td>9</td>\n",
       "      <td>0.000000</td>\n",
       "      <td>1.493333</td>\n",
       "      <td>0.121930</td>\n",
       "      <td>123.180000</td>\n",
       "      <td>10.057605</td>\n",
       "      <td>2296.500000</td>\n",
       "      <td>187.508440</td>\n",
       "      <td>2383.480000</td>\n",
       "      <td>194.610327</td>\n",
       "      <td>150</td>\n",
       "      <td>1</td>\n",
       "      <td>7.314439e+06</td>\n",
       "      <td>6474</td>\n",
       "      <td>0.9</td>\n",
       "      <td>7</td>\n",
       "      <td>targeted</td>\n",
       "    </tr>\n",
       "    <tr>\n",
       "      <th>1</th>\n",
       "      <td>1</td>\n",
       "      <td>9</td>\n",
       "      <td>1.028986</td>\n",
       "      <td>1.286667</td>\n",
       "      <td>0.105056</td>\n",
       "      <td>77.873333</td>\n",
       "      <td>6.358331</td>\n",
       "      <td>1530.820000</td>\n",
       "      <td>124.990930</td>\n",
       "      <td>2370.573333</td>\n",
       "      <td>193.556502</td>\n",
       "      <td>150</td>\n",
       "      <td>9</td>\n",
       "      <td>4.046683e+06</td>\n",
       "      <td>6474</td>\n",
       "      <td>0.9</td>\n",
       "      <td>7</td>\n",
       "      <td>targeted</td>\n",
       "    </tr>\n",
       "    <tr>\n",
       "      <th>2</th>\n",
       "      <td>2</td>\n",
       "      <td>10</td>\n",
       "      <td>1.029724</td>\n",
       "      <td>1.233333</td>\n",
       "      <td>0.100701</td>\n",
       "      <td>45.686667</td>\n",
       "      <td>3.730301</td>\n",
       "      <td>1250.653333</td>\n",
       "      <td>102.115417</td>\n",
       "      <td>2303.980000</td>\n",
       "      <td>188.119179</td>\n",
       "      <td>150</td>\n",
       "      <td>6</td>\n",
       "      <td>4.269638e+06</td>\n",
       "      <td>6474</td>\n",
       "      <td>0.9</td>\n",
       "      <td>7</td>\n",
       "      <td>targeted</td>\n",
       "    </tr>\n",
       "    <tr>\n",
       "      <th>3</th>\n",
       "      <td>3</td>\n",
       "      <td>10</td>\n",
       "      <td>1.031655</td>\n",
       "      <td>1.060000</td>\n",
       "      <td>0.086549</td>\n",
       "      <td>25.380000</td>\n",
       "      <td>2.072268</td>\n",
       "      <td>989.413333</td>\n",
       "      <td>80.785260</td>\n",
       "      <td>2090.833333</td>\n",
       "      <td>170.715827</td>\n",
       "      <td>150</td>\n",
       "      <td>28</td>\n",
       "      <td>3.102704e+06</td>\n",
       "      <td>6474</td>\n",
       "      <td>0.9</td>\n",
       "      <td>7</td>\n",
       "      <td>targeted</td>\n",
       "    </tr>\n",
       "    <tr>\n",
       "      <th>4</th>\n",
       "      <td>4</td>\n",
       "      <td>10</td>\n",
       "      <td>1.030769</td>\n",
       "      <td>1.033333</td>\n",
       "      <td>0.084371</td>\n",
       "      <td>22.226667</td>\n",
       "      <td>1.814800</td>\n",
       "      <td>672.373333</td>\n",
       "      <td>54.899053</td>\n",
       "      <td>1926.906667</td>\n",
       "      <td>157.331271</td>\n",
       "      <td>150</td>\n",
       "      <td>0</td>\n",
       "      <td>2.654410e+06</td>\n",
       "      <td>6474</td>\n",
       "      <td>0.9</td>\n",
       "      <td>7</td>\n",
       "      <td>targeted</td>\n",
       "    </tr>\n",
       "  </tbody>\n",
       "</table>\n",
       "</div>"
      ],
      "text/plain": [
       "   removed  diameter      size  node_conn0_mean  node_conn0_se  \\\n",
       "0        0         9  0.000000         1.493333       0.121930   \n",
       "1        1         9  1.028986         1.286667       0.105056   \n",
       "2        2        10  1.029724         1.233333       0.100701   \n",
       "3        3        10  1.031655         1.060000       0.086549   \n",
       "4        4        10  1.030769         1.033333       0.084371   \n",
       "\n",
       "   node_conn1_mean  node_conn1_se  node_conn2_mean  node_conn2_se  \\\n",
       "0       123.180000      10.057605      2296.500000     187.508440   \n",
       "1        77.873333       6.358331      1530.820000     124.990930   \n",
       "2        45.686667       3.730301      1250.653333     102.115417   \n",
       "3        25.380000       2.072268       989.413333      80.785260   \n",
       "4        22.226667       1.814800       672.373333      54.899053   \n",
       "\n",
       "   node_conn3_mean  node_conn3_se  node_conn_pairs  failed  high_betweenness  \\\n",
       "0      2383.480000     194.610327              150       1      7.314439e+06   \n",
       "1      2370.573333     193.556502              150       9      4.046683e+06   \n",
       "2      2303.980000     188.119179              150       6      4.269638e+06   \n",
       "3      2090.833333     170.715827              150      28      3.102704e+06   \n",
       "4      1926.906667     157.331271              150       0      2.654410e+06   \n",
       "\n",
       "   node_count  rewire_f  butterfly_m failure_type  \n",
       "0        6474       0.9            7     targeted  \n",
       "1        6474       0.9            7     targeted  \n",
       "2        6474       0.9            7     targeted  \n",
       "3        6474       0.9            7     targeted  \n",
       "4        6474       0.9            7     targeted  "
      ]
     },
     "execution_count": 7,
     "metadata": {},
     "output_type": "execute_result"
    }
   ],
   "source": [
    "import pandas as pd\n",
    "pd.read_csv(\"output/router_targeted/2017-10-15 15:10:43 d101dee 0/stats.csv\")"
   ]
  },
  {
   "cell_type": "code",
   "execution_count": null,
   "metadata": {
    "collapsed": true
   },
   "outputs": [],
   "source": []
  }
 ],
 "metadata": {
  "kernelspec": {
   "display_name": "Python 2",
   "language": "python",
   "name": "python2"
  },
  "language_info": {
   "codemirror_mode": {
    "name": "ipython",
    "version": 2
   },
   "file_extension": ".py",
   "mimetype": "text/x-python",
   "name": "python",
   "nbconvert_exporter": "python",
   "pygments_lexer": "ipython2",
   "version": "2.7.6"
  }
 },
 "nbformat": 4,
 "nbformat_minor": 2
}

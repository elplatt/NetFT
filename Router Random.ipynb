{
 "cells": [
  {
   "cell_type": "code",
   "execution_count": null,
   "metadata": {
    "collapsed": false
   },
   "outputs": [],
   "source": [
    "import math\n",
    "import os\n",
    "import random\n",
    "import re\n",
    "import sys\n",
    "import time\n",
    "from multiprocessing import Process, Queue\n",
    "import networkx as nx\n",
    "from networkx.algorithms.components import connected_components\n",
    "from networkx.algorithms.distance_measures import diameter\n",
    "import numpy as np\n",
    "import elp_networks as elpnet\n",
    "import elp_networks.algorithms as elpalg\n",
    "import logbook"
   ]
  },
  {
   "cell_type": "code",
   "execution_count": null,
   "metadata": {
    "collapsed": false
   },
   "outputs": [],
   "source": [
    "rewire_f = 0.9\n",
    "butterfly_m = 7\n",
    "net_file = \"external/as20000102.csv\"\n",
    "out_file = \"stats.csv\"\n",
    "try:\n",
    "    job_id = os.environ[\"PBS_ARRAYID\"]\n",
    "except KeyError:\n",
    "    job_id = 0\n",
    "exp_name = \"router_random\"\n",
    "exp_suffix = str(job_id)\n",
    "exp_ts = str(time.time())"
   ]
  },
  {
   "cell_type": "code",
   "execution_count": null,
   "metadata": {
    "collapsed": true
   },
   "outputs": [],
   "source": [
    "random.seed(hash('''\n",
    "    Build a man a fire, and he'll be warm for a day.\n",
    "    Set a man on fire, and he'll be warm for the rest of his life.\n",
    "                                                –Terry Pratchett\n",
    "''' + exp_ts + str(job_id)))"
   ]
  },
  {
   "cell_type": "code",
   "execution_count": null,
   "metadata": {
    "collapsed": false
   },
   "outputs": [],
   "source": [
    "def rewire_butterfly(g, fraction, butterfly_m):\n",
    "    m = butterfly_m\n",
    "    # Create butterfly and shuffle edges\n",
    "    butterfly = elpnet.Butterfly(m)\n",
    "    bf_nodes = list(butterfly.int_nodes())\n",
    "    bf_edges = set()\n",
    "    for bv in bf_nodes:\n",
    "        for bw in butterfly.int_neighbors(bv):\n",
    "            bf_edges.add(tuple(sorted([bv,bw])))\n",
    "    bf_edges = list(bf_edges)\n",
    "    random.shuffle(bf_edges)\n",
    "    num_bnodes = len(bf_nodes)\n",
    "    # Only sample nodes that can be completely rewired\n",
    "    # This list maps butterfly node labels to router node labels\n",
    "    rewire_nodes = random.sample([n for n in g.nodes() if len(list(g.neighbors(n))) >= 4], num_bnodes)\n",
    "    router_to_bf = dict([(r, b) for b, r in enumerate(rewire_nodes)])\n",
    "    router_edges = set()\n",
    "    for rv in rewire_nodes:\n",
    "        for rw in g.neighbors(rv):\n",
    "            if rw in rewire_nodes:\n",
    "                router_edges.add(tuple(sorted([rv, rw])))\n",
    "    router_edges = list(router_edges)\n",
    "    random.shuffle(router_edges)\n",
    "    to_rewire = int(math.floor(fraction * len(bf_edges)))\n",
    "    for i in range(to_rewire):\n",
    "        rv, rw = router_edges.pop()\n",
    "        g.remove_edge(rv, rw)\n",
    "        bv, bw = bf_edges.pop()\n",
    "        rv = rewire_nodes[bv]\n",
    "        rw = rewire_nodes[bw]\n",
    "        g.add_edge(rv, rw)\n"
   ]
  },
  {
   "cell_type": "code",
   "execution_count": null,
   "metadata": {
    "collapsed": true
   },
   "outputs": [],
   "source": [
    "edge_list = []\n",
    "whitespace = re.compile(r\"\\w+\")\n",
    "nodes = set()\n",
    "with open(net_file, \"rb\") as f:\n",
    "    for row in f:\n",
    "        if row.startswith(\"#\"):\n",
    "            continue\n",
    "        source, target = re.split(r\"\\W+\", row.strip())\n",
    "        source = int(source.strip())\n",
    "        target = int(target.strip())\n",
    "        nodes.add(source)\n",
    "        nodes.add(target)\n",
    "        edge_list.append( (source,target) )\n",
    "node_count = len(nodes)"
   ]
  },
  {
   "cell_type": "code",
   "execution_count": null,
   "metadata": {
    "collapsed": true
   },
   "outputs": [],
   "source": [
    "def do_failure_work(g):\n",
    "    return random.choice(list(g.nodes()))\n",
    "\n",
    "def failure_worker(graph_q, component_inq, failure_outq):\n",
    "    while True:\n",
    "        g = graph_q.get()\n",
    "        component_inq.put(g)\n",
    "        v = do_failure_work(g)\n",
    "        failure_outq.put(v)\n",
    "        next_g = g.copy()\n",
    "        next_g.remove_node(v)\n",
    "        if len(list(next_g.edges())) > 0:\n",
    "            graph_q.put(next_g)"
   ]
  },
  {
   "cell_type": "code",
   "execution_count": null,
   "metadata": {
    "collapsed": true
   },
   "outputs": [],
   "source": [
    "def do_component_work(g):\n",
    "    return list(connected_components(g))\n",
    "\n",
    "def component_worker(component_inq, diameter_inq, size_inq):\n",
    "    while True:\n",
    "        g = component_inq.get()\n",
    "        components = do_component_work(g)\n",
    "        diameter_inq.put( (components, g) )\n",
    "        size_inq.put(components)"
   ]
  },
  {
   "cell_type": "code",
   "execution_count": null,
   "metadata": {
    "collapsed": true
   },
   "outputs": [],
   "source": [
    "def do_diameter_work(components, g):\n",
    "    giant_nodes = set(max(components, key=len))\n",
    "    giant_edges = []\n",
    "    for source, target in g.edges():\n",
    "        if source in giant_nodes and target in giant_nodes:\n",
    "            giant_edges.append( (source, target) )\n",
    "    giant = nx.Graph(giant_edges)\n",
    "    return diameter(giant)\n",
    "\n",
    "def diameter_worker(diameter_inq, diameter_outq):\n",
    "    while True:\n",
    "        components, g = diameter_inq.get()\n",
    "        diameter = do_diameter_work(components, g)\n",
    "        diameter_outq.put(diameter)"
   ]
  },
  {
   "cell_type": "code",
   "execution_count": null,
   "metadata": {
    "collapsed": true
   },
   "outputs": [],
   "source": [
    "def do_size_work(components):\n",
    "    giant_nodes = max(components, key=len)\n",
    "    total = sum([len(x) for x in components])\n",
    "    try:\n",
    "        result = float(total - len(giant_nodes)) / float(len(components) - 1)\n",
    "    except ZeroDivisionError:\n",
    "        result = 0\n",
    "    return result\n",
    "\n",
    "def size_worker(size_inq, size_outq):\n",
    "    while True:\n",
    "        components = size_inq.get()\n",
    "        size_outq.put(do_size_work(components))"
   ]
  },
  {
   "cell_type": "code",
   "execution_count": null,
   "metadata": {
    "collapsed": false
   },
   "outputs": [],
   "source": [
    "graph_q = Queue(maxsize=2)\n",
    "failure_outq = Queue()\n",
    "component_inq = Queue(maxsize=2)\n",
    "diameter_inq = Queue(maxsize=2)\n",
    "diameter_outq = Queue()\n",
    "size_inq = Queue(maxsize=2)\n",
    "size_outq = Queue()\n",
    "\n",
    "exp = logbook.Experiment(exp_name, suffix=exp_suffix)\n",
    "log = exp.get_logger()\n",
    "\n",
    "log.info(\"Rewiring graph\")\n",
    "g = nx.Graph(edge_list)\n",
    "rewire_butterfly(g, rewire_f, butterfly_m)\n",
    "graph_q.put(g)\n",
    "\n",
    "log.info(\"Starting workers\")\n",
    "workers = []\n",
    "workers.append(Process(target=failure_worker, args=(graph_q, component_inq, failure_outq)))\n",
    "workers.append(Process(target=component_worker, args=(component_inq, diameter_inq, size_inq)))\n",
    "workers.append(Process(target=diameter_worker, args=(diameter_inq, diameter_outq)))\n",
    "workers.append(Process(target=size_worker, args=(size_inq, size_outq)))\n",
    "\n",
    "for w in workers:\n",
    "    w.daemon = True\n",
    "    w.start()\n",
    "    \n",
    "with open(exp.get_filename(out_file), \"wb\") as out:\n",
    "    log.info(\"Starting\")\n",
    "    finished = 0\n",
    "    out.write(\"removed,diameter,size,failed,node_count,rewire_f,butterfly_m\\n\")\n",
    "    while finished < node_count:\n",
    "        log.info(\"Iteration {}\".format(finished))\n",
    "        log.info(\"  Finding betweenness\")\n",
    "        label = failure_outq.get()\n",
    "        log.info(\"  Finding diameter\")\n",
    "        diameter = diameter_outq.get()\n",
    "        log.info(\"  Finding size\")\n",
    "        size = size_outq.get()\n",
    "        log.info(\"  Writing row\")\n",
    "        row = [finished, diameter, size, label, node_count, rewire_f, butterfly_m]\n",
    "        out.write(\",\".join([str(d) for d in row]) + \"\\n\")\n",
    "        out.flush()\n",
    "        finished += 1\n",
    "        if finished >= 500:\n",
    "            break\n",
    "log.info(\"Finished successfully\")\n"
   ]
  },
  {
   "cell_type": "code",
   "execution_count": null,
   "metadata": {
    "collapsed": true
   },
   "outputs": [],
   "source": []
  }
 ],
 "metadata": {
  "kernelspec": {
   "display_name": "Python 2",
   "language": "python",
   "name": "python2"
  },
  "language_info": {
   "codemirror_mode": {
    "name": "ipython",
    "version": 2
   },
   "file_extension": ".py",
   "mimetype": "text/x-python",
   "name": "python",
   "nbconvert_exporter": "python",
   "pygments_lexer": "ipython2",
   "version": "2.7.6"
  }
 },
 "nbformat": 4,
 "nbformat_minor": 2
}

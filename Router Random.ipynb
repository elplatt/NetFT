{
 "cells": [
  {
   "cell_type": "code",
   "execution_count": null,
   "metadata": {
    "collapsed": false
   },
   "outputs": [],
   "source": [
    "%pylab inline\n",
    "import random\n",
    "import re\n",
    "import sys\n",
    "import time\n",
    "from multiprocessing import Process, Queue\n",
    "import networkx as nx\n",
    "import networkx.algorithms.centrality as nxcent\n",
    "import networkx.algorithms.distance_measures as nxdist\n",
    "import networkx.algorithms.components as nxcomp\n",
    "import numpy as np\n",
    "import elp_networks as elpnet\n",
    "import elp_networks.algorithms as elpalg\n",
    "import logbook"
   ]
  },
  {
   "cell_type": "code",
   "execution_count": null,
   "metadata": {
    "collapsed": true
   },
   "outputs": [],
   "source": [
    "random.seed(hash('''\n",
    "    Build a man a fire, and he'll be warm for a day.\n",
    "    Set a man on fire, and he'll be warm for the rest of his life.\n",
    "                                                –Terry Pratchett\n",
    "'''))"
   ]
  },
  {
   "cell_type": "code",
   "execution_count": null,
   "metadata": {
    "collapsed": true
   },
   "outputs": [],
   "source": [
    "net_file = \"external/as20000102.csv\"\n",
    "exp_name = \"router_random\""
   ]
  },
  {
   "cell_type": "code",
   "execution_count": null,
   "metadata": {
    "collapsed": true
   },
   "outputs": [],
   "source": [
    "edge_list = []\n",
    "whitespace = re.compile(r\"\\w+\")\n",
    "nodes = set()\n",
    "with open(net_file, \"rb\") as f:\n",
    "    for row in f:\n",
    "        if row.startswith(\"#\"):\n",
    "            continue\n",
    "        source, target = re.split(r\"\\W+\", row.strip())\n",
    "        source = int(source.strip())\n",
    "        target = int(target.strip())\n",
    "        nodes.add(source)\n",
    "        nodes.add(target)\n",
    "        edge_list.append( (source,target) )\n",
    "node_count = len(nodes)"
   ]
  },
  {
   "cell_type": "code",
   "execution_count": null,
   "metadata": {
    "collapsed": true
   },
   "outputs": [],
   "source": [
    "def do_failure_work(edge_list):\n",
    "    sources, targets = zip(*edge_list)\n",
    "    nodes = set(sources) | set(targets)\n",
    "    failed = random.choice(list(nodes))\n",
    "    return failed\n",
    "\n",
    "def failure_worker(edges_q, component_inq, failure_outq):\n",
    "    while True:\n",
    "        edge_list = edges_q.get()\n",
    "        component_inq.put(edge_list)\n",
    "        v = do_failure_work(edge_list)\n",
    "        failure_outq.put(v)\n",
    "        next_edges = [(s,t) for s,t in edge_list if s != v and t != v]\n",
    "        if len(next_edges) > 0:\n",
    "            edges_q.put(next_edges)"
   ]
  },
  {
   "cell_type": "code",
   "execution_count": null,
   "metadata": {
    "collapsed": true
   },
   "outputs": [],
   "source": [
    "def do_component_work(edge_list):\n",
    "    g = nx.Graph(edge_list)\n",
    "    return list(nxcomp.connected_components(g))\n",
    "\n",
    "def component_worker(component_inq, diameter_inq, size_inq):\n",
    "    while True:\n",
    "        edge_list = component_inq.get()\n",
    "        components = do_component_work(edge_list)\n",
    "        diameter_inq.put( (components, edge_list) )\n",
    "        size_inq.put(components)"
   ]
  },
  {
   "cell_type": "code",
   "execution_count": null,
   "metadata": {
    "collapsed": true
   },
   "outputs": [],
   "source": [
    "def do_diameter_work(components, edge_list):\n",
    "    giant_nodes = set(max(components, key=len))\n",
    "    giant_edges = []\n",
    "    for source, target in edge_list:\n",
    "        if source in giant_nodes and target in giant_nodes:\n",
    "            giant_edges.append( (source, target) )\n",
    "    g = nx.Graph(giant_edges)\n",
    "    return nxdist.diameter(g)\n",
    "\n",
    "def diameter_worker(diameter_inq, diameter_outq):\n",
    "    while True:\n",
    "        components, edge_list = diameter_inq.get()\n",
    "        diameter = do_diameter_work(components, edge_list)\n",
    "        diameter_outq.put(diameter)"
   ]
  },
  {
   "cell_type": "code",
   "execution_count": null,
   "metadata": {
    "collapsed": true
   },
   "outputs": [],
   "source": [
    "def do_size_work(components):\n",
    "    giant_nodes = max(components, key=len)\n",
    "    total = sum([len(x) for x in components])\n",
    "    try:\n",
    "        result = float(total - len(giant_nodes)) / float(len(components) - 1)\n",
    "    except ZeroDivisionError:\n",
    "        result = 0\n",
    "    return result\n",
    "\n",
    "def size_worker(size_inq, size_outq):\n",
    "    while True:\n",
    "        components = size_inq.get()\n",
    "        size_outq.put(do_size_work(components))"
   ]
  },
  {
   "cell_type": "code",
   "execution_count": null,
   "metadata": {
    "collapsed": false
   },
   "outputs": [],
   "source": [
    "edges_q = Queue()\n",
    "failure_outq = Queue()\n",
    "component_inq = Queue()\n",
    "diameter_inq = Queue()\n",
    "diameter_outq = Queue()\n",
    "size_inq = Queue()\n",
    "size_outq = Queue()\n",
    "\n",
    "edges_q.put(edge_list)\n",
    "\n",
    "workers = []\n",
    "workers.append(Process(target=failure_worker, args=(edges_q, component_inq, failure_outq)))\n",
    "workers.append(Process(target=component_worker, args=(component_inq, diameter_inq, size_inq)))\n",
    "workers.append(Process(target=diameter_worker, args=(diameter_inq, diameter_outq)))\n",
    "workers.append(Process(target=size_worker, args=(size_inq, size_outq)))\n",
    "\n",
    "for w in workers:\n",
    "    w.daemon = True\n",
    "    w.start()\n",
    "    \n",
    "exp = logbook.Experiment(exp_name)\n",
    "log = exp.get_logger()\n",
    "with open(exp.get_filename(\"targeted_router.csv\"), \"wb\") as out:\n",
    "    log.info(\"Starting\")\n",
    "    finished = 0\n",
    "    out.write(\"uid,removed,diameter,size,failed,node_count\\n\")\n",
    "    while finished < node_count:\n",
    "        log.info(\"Iteration {}\".format(finished))\n",
    "        log.info(\"  Finding failed node\")\n",
    "        label = failure_outq.get()\n",
    "        log.info(\"  Finding diameter\")\n",
    "        diameter = diameter_outq.get()\n",
    "        log.info(\"  Finding size\")\n",
    "        size = size_outq.get()\n",
    "        log.info(\"  Writing row\")\n",
    "        uid = str(exp.start_ts) + '-0'\n",
    "        row = [uid, finished, diameter, size, label,node_count]\n",
    "        out.write(\",\".join([str(d) for d in row]) + \"\\n\")\n",
    "        out.flush()\n",
    "        finished += 1\n",
    "log.info(\"Finished successfully\")\n"
   ]
  },
  {
   "cell_type": "code",
   "execution_count": null,
   "metadata": {
    "collapsed": true
   },
   "outputs": [],
   "source": []
  },
  {
   "cell_type": "code",
   "execution_count": null,
   "metadata": {
    "collapsed": true
   },
   "outputs": [],
   "source": []
  }
 ],
 "metadata": {
  "kernelspec": {
   "display_name": "Python 2",
   "language": "python",
   "name": "python2"
  },
  "language_info": {
   "codemirror_mode": {
    "name": "ipython",
    "version": 2
   },
   "file_extension": ".py",
   "mimetype": "text/x-python",
   "name": "python",
   "nbconvert_exporter": "python",
   "pygments_lexer": "ipython2",
   "version": "2.7.6"
  }
 },
 "nbformat": 4,
 "nbformat_minor": 2
}

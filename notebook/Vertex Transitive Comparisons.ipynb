{
 "metadata": {
  "name": ""
 },
 "nbformat": 3,
 "nbformat_minor": 0,
 "worksheets": [
  {
   "cells": [
    {
     "cell_type": "code",
     "collapsed": false,
     "input": [
      "import math\n",
      "import numpy as np\n",
      "import matplotlib.pyplot as plt"
     ],
     "language": "python",
     "metadata": {},
     "outputs": [],
     "prompt_number": 2
    },
    {
     "cell_type": "code",
     "collapsed": false,
     "input": [
      "# Size of source neighborhood\n",
      "h = range(0, 6)"
     ],
     "language": "python",
     "metadata": {},
     "outputs": [],
     "prompt_number": 3
    },
    {
     "cell_type": "code",
     "collapsed": false,
     "input": [
      "def butterfly_upper (N, h):\n",
      "    return 4 * (h + 1) * (2*h + 1) * math.pow(2, h)\n",
      "\n",
      "def clique_expanded_lower (N, h):\n",
      "    theta = 1.597910218\n",
      "    # count internal edges\n",
      "    if h == 0:\n",
      "        k = 0\n",
      "    else:\n",
      "        k = math.log(h, 2.0)\n",
      "    return (math.log(math.log(N, theta), 2.0) - k) * math.pow(theta, h)"
     ],
     "language": "python",
     "metadata": {},
     "outputs": [],
     "prompt_number": 4
    },
    {
     "cell_type": "code",
     "collapsed": false,
     "input": [
      "# Hold network size constant and vary neighborhood size\n",
      "N = 1000000\n",
      "h = range(6)\n",
      "b = [butterfly_upper(N, x) for x in h]\n",
      "s = [clique_expanded_lower(N, x) for x in h]\n",
      "d = [s[i] - b[i] for i in range(len(h))]\n",
      "plt.plot(h,d)\n",
      "plt.title(\"Self-Sim(LB) - Butterfly(UB) v. Nighborhood size (N=10^6)\")"
     ],
     "language": "python",
     "metadata": {},
     "outputs": [],
     "prompt_number": 11
    },
    {
     "cell_type": "code",
     "collapsed": false,
     "input": [
      "# Hold neighborhood size constant and vary network size\n",
      "N = np.power(10, np.arange(1,11))\n",
      "h = 0\n",
      "b = [butterfly_upper(x, h) for x in N]\n",
      "s = [clique_expanded_lower(x, h) for x in N]\n",
      "d = [s[i] - b[i] for i in range(len(N))]\n",
      "plt.semilogx(N,d)\n",
      "plt.title(\"Self-Sim(LB) - Butterfly(UB) v. Net size (h=0)\")"
     ],
     "language": "python",
     "metadata": {},
     "outputs": [],
     "prompt_number": 14
    },
    {
     "cell_type": "code",
     "collapsed": false,
     "input": [],
     "language": "python",
     "metadata": {},
     "outputs": [],
     "prompt_number": 26
    }
   ],
   "metadata": {}
  }
 ]
}
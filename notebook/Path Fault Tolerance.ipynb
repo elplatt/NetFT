{
 "metadata": {
  "name": ""
 },
 "nbformat": 3,
 "nbformat_minor": 0,
 "worksheets": [
  {
   "cells": [
    {
     "cell_type": "code",
     "collapsed": false,
     "input": [
      "import math\n",
      "import numpy as np\n",
      "import numpy.random as nprand\n",
      "import matplotlib.pyplot as plt"
     ],
     "language": "python",
     "metadata": {},
     "outputs": [],
     "prompt_number": 4
    },
    {
     "cell_type": "code",
     "collapsed": false,
     "input": [
      "P = 100\n",
      "fail = np.arange(P+1)\n",
      "test = np.arange(P+1)\n",
      "data = np.zeros((P+1,P+1))\n",
      "for k in fail:\n",
      "    for m in test:\n",
      "        if (k < m):\n",
      "            data[k,m] = 0.0\n",
      "        else:\n",
      "            data[k,m] = math.factorial(k)/float(math.factorial(k - m)) * math.factorial(P-m)/float(math.factorial(P))"
     ],
     "language": "python",
     "metadata": {},
     "outputs": [],
     "prompt_number": 56
    },
    {
     "cell_type": "code",
     "collapsed": false,
     "input": [
      "plt.figure()\n",
      "plt.title(\"Probabilty of undetected error\")\n",
      "ax = subplot(1,1,1)\n",
      "plt.pcolor(data, cmap=\"gray\")\n",
      "plt.xlabel(\"Paths tested\")\n",
      "plt.ylabel(\"Faulty paths\")\n",
      "ax.set_xlim([0,P+1])\n",
      "ax.set_ylim([0,P+1])"
     ],
     "language": "python",
     "metadata": {},
     "outputs": [
      {
       "metadata": {},
       "output_type": "pyout",
       "prompt_number": 61,
       "text": [
        "(0, 101)"
       ]
      },
      {
       "metadata": {},
       "output_type": "display_data",
       "png": "[encoded data removed]",
       "text": [
        "<matplotlib.figure.Figure at 0x128d11990>"
       ]
      }
     ],
     "prompt_number": 61
    },
    {
     "cell_type": "code",
     "collapsed": false,
     "input": [],
     "language": "python",
     "metadata": {},
     "outputs": []
    }
   ],
   "metadata": {}
  }
 ]
}
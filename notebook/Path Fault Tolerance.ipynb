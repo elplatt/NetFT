{
 "metadata": {
  "name": ""
 },
 "nbformat": 3,
 "nbformat_minor": 0,
 "worksheets": [
  {
   "cells": [
    {
     "cell_type": "code",
     "collapsed": false,
     "input": [
      "import math\n",
      "import numpy as np\n",
      "import numpy.random as nprand\n",
      "import matplotlib.pyplot as plt"
     ],
     "language": "python",
     "metadata": {},
     "outputs": [],
     "prompt_number": 1
    },
    {
     "cell_type": "code",
     "collapsed": false,
     "input": [
      "def error_heatmap(B):\n",
      "    fail = np.arange(B+1)\n",
      "    test = np.arange(B+1)\n",
      "    data = np.zeros((B+1,B+1))\n",
      "    for k in fail:\n",
      "        for m in test:\n",
      "            if (k < m):\n",
      "                data[k,m] = 0.0\n",
      "            else:\n",
      "                data[k,m] = math.factorial(k)/float(math.factorial(k - m)) * math.factorial(B-m)/float(math.factorial(B))\n",
      "    return data"
     ],
     "language": "python",
     "metadata": {},
     "outputs": [],
     "prompt_number": 2
    },
    {
     "cell_type": "code",
     "collapsed": false,
     "input": [
      "bg_color = \"white\"\n",
      "fg_color = \"black\"\n",
      "n = 25\n",
      "fig = plt.figure(figsize=(3.33,3), dpi=300, facecolor=bg_color)\n",
      "ax_main = plt.subplot(1,1,1)\n",
      "im = ax_main.pcolor(error_heatmap(n), cmap=\"gray\", edgecolor=\"face\")\n",
      "ax_main.set_title(\"Pr[fail], $\\delta$ = %d\" % n, fontsize=12, color=fg_color)\n",
      "ax_main.set_xlabel(\"Utilized paths\", color=fg_color)\n",
      "ax_main.set_ylabel(\"Faulty paths\", color=fg_color)\n",
      "ax_main.set_xlim([0,n+1])\n",
      "ax_main.set_ylim([0,n+1])\n",
      "fig.subplots_adjust(left=0.2, right=0.8, wspace=0.45, hspace=0.7, bottom=0.2, top=0.875)\n",
      "ax_bar = fig.add_axes([0.85, 0.18, 0.05, 0.7])\n",
      "plt.tick_params(\n",
      "    axis=\"x\",\n",
      "    which=\"both\",\n",
      "    bottom=\"off\",\n",
      "    top=\"off\",\n",
      "    labelbottom=\"off\")\n",
      "cb = fig.colorbar(im, cax=ax_bar, ticks=[0.,0.5,1.0])\n",
      "cb.outline.set_edgecolor(fg_color)\n",
      "cb.outline.set_linewidth(1)\n",
      "cb.patch.set_facecolor(bg_color)\n",
      "for ax in (ax_main, ax_bar):\n",
      "    ax.tick_params(labelsize=10, color=fg_color)\n",
      "    for item in ([ax.title, ax.xaxis.label, ax.yaxis.label]):\n",
      "        item.set_fontsize(12)\n",
      "    for item in (ax.get_xticklabels() + ax.get_yticklabels()):\n",
      "        item.set_fontsize(8)\n",
      "    ax.patch.set_facecolor(bg_color)\n",
      "    ax.tick_params(which=\"both\", labelsize=7,colors=fg_color)\n",
      "    ax.patch.set_facecolor(bg_color)\n",
      "    ax.tick_params(which=\"both\", labelsize=7,colors=fg_color)\n",
      "    for spine in ax.spines.values():\n",
      "        spine.set_color(fg_color)\n",
      "plt.savefig(\"output/fig-perror-%d.pdf\" % n, dpi=300, facecolor=bg_color)\n",
      "plt.savefig(\"output/fig-perror-%d.eps\" % n, dpi=300, facecolor=bg_color)"
     ],
     "language": "python",
     "metadata": {},
     "outputs": [],
     "prompt_number": 8
    },
    {
     "cell_type": "code",
     "collapsed": false,
     "input": [
      "n = [5, 10, 25, 40]\n",
      "rows = 2\n",
      "cols = 2\n",
      "fig, axes = plt.subplots(nrows=rows, ncols=cols, figsize=(4.5,4), dpi=300)\n",
      "for ni, ax in enumerate(axes.flat):\n",
      "    im = ax.pcolor(error_heatmap(n[ni]), cmap=\"gray\", edgecolor=\"face\")\n",
      "    ax.set_title(\"P[failure], B = %d\" % n[ni], fontsize=12)\n",
      "    ax.set_xlabel(\"Utilized paths\")\n",
      "    ax.set_ylabel(\"Faulty paths\")\n",
      "    ax.set_xlim([0,n[ni]+1])\n",
      "    ax.set_ylim([0,n[ni]+1])\n",
      "    for item in ([ax.title, ax.xaxis.label, ax.yaxis.label]):\n",
      "        item.set_fontsize(10)\n",
      "    for item in (ax.get_xticklabels() + ax.get_yticklabels()):\n",
      "        item.set_fontsize(8)\n",
      "fig.subplots_adjust(left=0.125, right=0.8, wspace=0.45, hspace=0.7, bottom=0.1, top=0.925)\n",
      "ax = fig.add_axes([0.90, 0.625, 0.015, 0.3])\n",
      "ax.tick_params(labelsize=10)\n",
      "for item in ([ax.title, ax.xaxis.label, ax.yaxis.label]):\n",
      "    item.set_fontsize(12)\n",
      "for item in (ax.get_xticklabels() + ax.get_yticklabels()):\n",
      "    item.set_fontsize(8)\n",
      "fig.colorbar(im, cax=ax, ticks=[0.,0.5,1.0])\n",
      "plt.savefig(\"output/fig-perror.pdf\", dpi=300)\n",
      "plt.savefig(\"output/fig-perror.eps\", dpi=300)"
     ],
     "language": "python",
     "metadata": {},
     "outputs": [],
     "prompt_number": 6
    },
    {
     "cell_type": "code",
     "collapsed": false,
     "input": [
      "axes.flat"
     ],
     "language": "python",
     "metadata": {},
     "outputs": [],
     "prompt_number": 3
    },
    {
     "cell_type": "code",
     "collapsed": false,
     "input": [],
     "language": "python",
     "metadata": {},
     "outputs": []
    }
   ],
   "metadata": {}
  }
 ]
}
{
 "cells": [
  {
   "cell_type": "code",
   "execution_count": null,
   "metadata": {},
   "outputs": [],
   "source": [
    "import time\n",
    "import numpy as np\n",
    "import matplotlib.pyplot as plt\n",
    "import networks.networks as nw\n",
    "import pandas as pd\n",
    "%pylab inline"
   ]
  },
  {
   "cell_type": "code",
   "execution_count": null,
   "metadata": {},
   "outputs": [],
   "source": [
    "def set_fontsize(ax, size):\n",
    "    for item in ([ax.title, ax.xaxis.label, ax.yaxis.label] +\n",
    "             ax.get_xticklabels() + ax.get_yticklabels()):\n",
    "        item.set_fontsize(size)"
   ]
  },
  {
   "cell_type": "code",
   "execution_count": null,
   "metadata": {},
   "outputs": [],
   "source": [
    "cube_df = pd.DataFrame.from_csv(\"output/pathlength_cube.csv\")\n",
    "bf_df = pd.DataFrame.from_csv(\"output/pathlength_bf.csv\")\n",
    "nk_df = pd.DataFrame.from_csv(\"output/pathlength_nk.csv\")"
   ]
  },
  {
   "cell_type": "code",
   "execution_count": null,
   "metadata": {},
   "outputs": [],
   "source": [
    "bg_color = \"white\"\n",
    "fg_color = \"black\""
   ]
  },
  {
   "cell_type": "code",
   "execution_count": null,
   "metadata": {},
   "outputs": [],
   "source": [
    "fig = plt.figure(figsize=(2,2))\n",
    "ax = plt.subplot(1,1,1)\n",
    "set_fontsize(ax, 7)\n",
    "plt.title('Mean shortest path', fontsize=9, color=fg_color)\n",
    "plt.xlabel('Vertices', color=fg_color)\n",
    "plt.ylabel('Mean shortest path', color=fg_color)\n",
    "plt.semilogx(cube_df.as_matrix([\"N\"]), cube_df.as_matrix([\"mean_path\"]), '-s', label=\"cube\", color=\"#C88B87\", markersize=2)\n",
    "plt.semilogx(bf_df.as_matrix([\"N\"]), bf_df.as_matrix([\"mean_path\"]), '-x', label=\"butterfly\", color=\"#9BB68F\", markersize=3)\n",
    "plt.semilogx(nk_df.as_matrix([\"N\"]), nk_df.as_matrix([\"mean_path\"]), '-*', label=\"nested\", color=\"#7C8DB2\", markersize=4)\n",
    "leg = plt.legend(loc=\"upper left\", fontsize=6)\n",
    "leg.get_frame().set_edgecolor(fg_color)\n",
    "leg.get_frame().set_facecolor(bg_color)\n",
    "fig.patch.set_facecolor(bg_color)\n",
    "for t in leg.get_texts():\n",
    "    plt.setp(t, color=fg_color)\n",
    "ax.patch.set_facecolor(bg_color)\n",
    "ax.tick_params(which=\"both\", labelsize=7,colors=fg_color)\n",
    "for spine in ax.spines.values():\n",
    "    spine.set_color(fg_color)\n",
    "xlim(0.46651649576840371, 10000000)\n",
    "plt.tight_layout()\n",
    "plt.savefig(\"output/fig-mean_shortest_path.eps\", dpi=300, facecolor=bg_color)"
   ]
  },
  {
   "cell_type": "code",
   "execution_count": null,
   "metadata": {},
   "outputs": [],
   "source": [
    "fig = figure(figsize=(2,2))\n",
    "ax = plt.subplot(1,1,1)\n",
    "ax.tick_params(labelsize=7)\n",
    "set_fontsize(ax, 7)\n",
    "plt.title('Diameter', fontsize=9, color=fg_color)\n",
    "plt.xlabel('Vertices', color=fg_color)\n",
    "plt.ylabel('Diameter', color=fg_color)\n",
    "plt.semilogx(cube_df.as_matrix([\"N\"]), cube_df.as_matrix([\"diameter\"]), '-sr', label=\"cube\", color=\"#C88B87\", markersize=2)\n",
    "plt.semilogx(bf_df.as_matrix([\"N\"]), bf_df.as_matrix([\"diameter\"]), '-xg', label=\"butterfly\", color=\"#9BB68F\", markersize=3)\n",
    "plt.semilogx(nk_df.as_matrix([\"N\"]), nk_df.as_matrix([\"diameter\"]), '-*b', label=\"nested\", color=\"#7C8DB2\", markersize=4)\n",
    "leg = plt.legend(loc=\"upper left\", fontsize=6)\n",
    "leg.get_frame().set_edgecolor(fg_color)\n",
    "leg.get_frame().set_facecolor(bg_color)\n",
    "fig.patch.set_facecolor(bg_color)\n",
    "for t in leg.get_texts():\n",
    "    plt.setp(t, color=fg_color)\n",
    "ax.patch.set_facecolor(bg_color)\n",
    "ax.tick_params(which=\"both\", labelsize=7,colors=fg_color)\n",
    "for spine in ax.spines.values():\n",
    "    spine.set_color(fg_color)\n",
    "xlim(0.46651649576840371, 10000000)\n",
    "plt.tight_layout()\n",
    "plt.savefig(\"output/fig-diameter.eps\", dpi=300, facecolor=bg_color)\n"
   ]
  },
  {
   "cell_type": "code",
   "execution_count": null,
   "metadata": {},
   "outputs": [],
   "source": [
    "cube_deg_df = pd.DataFrame.from_csv(\"output/degree_cube.csv\")\n",
    "bf_deg_df = pd.DataFrame.from_csv(\"output/degree_bf.csv\")\n",
    "nk_deg_df = pd.DataFrame.from_csv(\"output/degree_nk.csv\")"
   ]
  },
  {
   "cell_type": "code",
   "execution_count": null,
   "metadata": {},
   "outputs": [],
   "source": [
    "fig = plt.figure(figsize=(2,2))\n",
    "ax = plt.subplot(1,1,1)\n",
    "set_fontsize(ax, 7)\n",
    "ax.tick_params(labelsize=7,color=fg_color)\n",
    "plt.title('Sparsity',fontsize=9, color=fg_color)\n",
    "plt.xlabel('Vertices',color=fg_color)\n",
    "plt.ylabel('Degree',color=fg_color)\n",
    "plt.semilogx(cube_deg_df.as_matrix([\"N\"]), cube_deg_df.as_matrix([\"degree\"]), '-sr', label=\"cube\", color=\"#C88B87\", markersize=2)\n",
    "plt.semilogx(bf_deg_df.as_matrix([\"N\"]), bf_deg_df.as_matrix([\"degree\"]), '-xg', label=\"butterfly\", color=\"#9BB68F\", markersize=3)\n",
    "plt.semilogx(nk_deg_df.as_matrix([\"N\"]), nk_deg_df.as_matrix([\"degree\"]), '-*b', label=\"nested\", color=\"#7C8DB2\", markersize=4)\n",
    "leg = plt.legend(loc=\"upper left\", fontsize=6)\n",
    "leg.get_frame().set_edgecolor(fg_color)\n",
    "leg.get_frame().set_facecolor(bg_color)\n",
    "fig.patch.set_facecolor(bg_color)\n",
    "for t in leg.get_texts():\n",
    "    plt.setp(t, color=fg_color)\n",
    "ax.patch.set_facecolor(bg_color)\n",
    "ax.tick_params(which=\"both\", labelsize=7,colors=fg_color)\n",
    "for spine in ax.spines.values():\n",
    "    spine.set_color(fg_color)\n",
    "xlim(0.46651649576840371, 10000000)\n",
    "plt.tight_layout()\n",
    "plt.savefig(\"output/fig-degree.eps\", dpi=300, facecolor=bg_color)\n"
   ]
  },
  {
   "cell_type": "code",
   "execution_count": null,
   "metadata": {},
   "outputs": [],
   "source": [
    "fig = plt.figure(figsize=(6,2))\n",
    "\n",
    "ax = plt.subplot(1,3,1)\n",
    "set_fontsize(ax, 7)\n",
    "ax.tick_params(labelsize=7,color=fg_color)\n",
    "plt.title('Sparsity',fontsize=9, color=fg_color)\n",
    "plt.xlabel('Vertices',color=fg_color)\n",
    "plt.ylabel('Degree',color=fg_color)\n",
    "plt.semilogx(cube_deg_df.as_matrix([\"N\"]), cube_deg_df.as_matrix([\"degree\"]), '-s', label=\"cube\", markersize=2)\n",
    "plt.semilogx(bf_deg_df.as_matrix([\"N\"]), bf_deg_df.as_matrix([\"degree\"]), '-s', label=\"butterfly\", markersize=3)\n",
    "plt.semilogx(nk_deg_df.as_matrix([\"N\"]), nk_deg_df.as_matrix([\"degree\"]), '-s', label=\"nested\", markersize=3)\n",
    "leg = plt.legend(loc=\"upper left\", fontsize=6)\n",
    "leg.get_frame().set_edgecolor(fg_color)\n",
    "leg.get_frame().set_facecolor(bg_color)\n",
    "fig.patch.set_facecolor(bg_color)\n",
    "for t in leg.get_texts():\n",
    "    plt.setp(t, color=fg_color)\n",
    "ax.patch.set_facecolor(bg_color)\n",
    "ax.tick_params(which=\"both\", labelsize=7,colors=fg_color)\n",
    "for spine in ax.spines.values():\n",
    "    spine.set_color(fg_color)\n",
    "\n",
    "ax = plt.subplot(1,3,2)\n",
    "set_fontsize(ax, 7)\n",
    "plt.title('Mean shortest path', fontsize=9, color=fg_color)\n",
    "plt.xlabel('Number of vertices', color=fg_color)\n",
    "plt.ylabel('Mean shortest path', color=fg_color)\n",
    "plt.semilogx(cube_df.as_matrix([\"N\"]), cube_df.as_matrix([\"mean_path\"]), '-s', label=\"cube\", markersize=3)\n",
    "plt.semilogx(bf_df.as_matrix([\"N\"]), bf_df.as_matrix([\"mean_path\"]), '-x', label=\"butterfly\", markersize=4)\n",
    "plt.semilogx(nk_df.as_matrix([\"N\"]), nk_df.as_matrix([\"mean_path\"]), '-*', label=\"nested\", markersize=4)\n",
    "leg = plt.legend(loc=\"upper left\", fontsize=6)\n",
    "leg.get_frame().set_edgecolor(fg_color)\n",
    "leg.get_frame().set_facecolor(bg_color)\n",
    "fig.patch.set_facecolor(bg_color)\n",
    "for t in leg.get_texts():\n",
    "    plt.setp(t, color=fg_color)\n",
    "ax.patch.set_facecolor(bg_color)\n",
    "ax.tick_params(which=\"both\", labelsize=7,colors=fg_color)\n",
    "for spine in ax.spines.values():\n",
    "    spine.set_color(fg_color)\n",
    "\n",
    "ax = plt.subplot(1,3,3)\n",
    "ax.tick_params(labelsize=7)\n",
    "set_fontsize(ax, 7)\n",
    "plt.title('Diameter', fontsize=9, color=fg_color)\n",
    "plt.xlabel('Number of vertices', color=fg_color)\n",
    "plt.ylabel('Diameter', color=fg_color)\n",
    "plt.semilogx(cube_df.as_matrix([\"N\"]), cube_df.as_matrix([\"diameter\"]), '-s', label=\"cube\", markersize=\"3\")\n",
    "plt.semilogx(bf_df.as_matrix([\"N\"]), bf_df.as_matrix([\"diameter\"]), '-x', label=\"butterfly\", markersize=4)\n",
    "plt.semilogx(nk_df.as_matrix([\"N\"]), nk_df.as_matrix([\"diameter\"]), '-*', label=\"nested\", markersize=4)\n",
    "leg = plt.legend(loc=\"upper left\", fontsize=6)\n",
    "leg.get_frame().set_edgecolor(fg_color)\n",
    "leg.get_frame().set_facecolor(bg_color)\n",
    "fig.patch.set_facecolor(bg_color)\n",
    "for t in leg.get_texts():\n",
    "    plt.setp(t, color=fg_color)\n",
    "ax.patch.set_facecolor(bg_color)\n",
    "ax.tick_params(which=\"both\", labelsize=7,colors=fg_color)\n",
    "for spine in ax.spines.values():\n",
    "    spine.set_color(fg_color)\n",
    "plt.tight_layout()\n",
    "plt.savefig(\"output/fig-diameter.eps\", dpi=300, facecolor=bg_color)\n",
    "    \n",
    "plt.tight_layout()\n",
    "plt.savefig(\"output/fig-sparsity-pathlength.eps\", dpi=300)"
   ]
  },
  {
   "cell_type": "code",
   "execution_count": null,
   "metadata": {},
   "outputs": [],
   "source": []
  }
 ],
 "metadata": {
  "kernelspec": {
   "display_name": "Python 3",
   "language": "python",
   "name": "python3"
  },
  "language_info": {
   "codemirror_mode": {
    "name": "ipython",
    "version": 3
   },
   "file_extension": ".py",
   "mimetype": "text/x-python",
   "name": "python",
   "nbconvert_exporter": "python",
   "pygments_lexer": "ipython3",
   "version": "3.7.5"
  }
 },
 "nbformat": 4,
 "nbformat_minor": 4
}

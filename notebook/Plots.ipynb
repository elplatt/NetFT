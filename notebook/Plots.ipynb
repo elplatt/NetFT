{
 "metadata": {
  "name": ""
 },
 "nbformat": 3,
 "nbformat_minor": 0,
 "worksheets": [
  {
   "cells": [
    {
     "cell_type": "code",
     "collapsed": false,
     "input": [
      "import time\n",
      "import networkx as nx\n",
      "import numpy as np\n",
      "import matplotlib.pyplot as plt\n",
      "import networks.networks as nw\n",
      "import pandas as pd"
     ],
     "language": "python",
     "metadata": {},
     "outputs": [],
     "prompt_number": 1
    },
    {
     "cell_type": "code",
     "collapsed": false,
     "input": [
      "def set_fontsize(ax, size):\n",
      "    for item in ([ax.title, ax.xaxis.label, ax.yaxis.label] +\n",
      "             ax.get_xticklabels() + ax.get_yticklabels()):\n",
      "        item.set_fontsize(size)"
     ],
     "language": "python",
     "metadata": {},
     "outputs": [],
     "prompt_number": 2
    },
    {
     "cell_type": "code",
     "collapsed": false,
     "input": [
      "cube_df = pd.DataFrame.from_csv(\"output/pathlength_cube.csv\")\n",
      "bf_df = pd.DataFrame.from_csv(\"output/pathlength_bf.csv\")\n",
      "nk_df = pd.DataFrame.from_csv(\"output/pathlength_nk.csv\")"
     ],
     "language": "python",
     "metadata": {},
     "outputs": [],
     "prompt_number": 3
    },
    {
     "cell_type": "code",
     "collapsed": false,
     "input": [
      "bg_color = \"black\"\n",
      "fg_color = \"white\""
     ],
     "language": "python",
     "metadata": {},
     "outputs": [],
     "prompt_number": 9
    },
    {
     "cell_type": "code",
     "collapsed": false,
     "input": [
      "fig = plt.figure(figsize=(2,2))\n",
      "ax = plt.subplot(1,1,1)\n",
      "set_fontsize(ax, 7)\n",
      "plt.title('Mean shortest path', fontsize=9, color=fg_color)\n",
      "plt.xlabel('Number of vertices', color=fg_color)\n",
      "plt.ylabel('Mean shortest path', color=fg_color)\n",
      "plt.semilogx(cube_df.as_matrix([\"N\"]), cube_df.as_matrix([\"mean_path\"]), '-s', label=\"cube\", markersize=3)\n",
      "plt.semilogx(bf_df.as_matrix([\"N\"]), bf_df.as_matrix([\"mean_path\"]), '-x', label=\"butterfly\", markersize=4)\n",
      "plt.semilogx(nk_df.as_matrix([\"N\"]), nk_df.as_matrix([\"mean_path\"]), '-*', label=\"nested\", markersize=4)\n",
      "leg = plt.legend(loc=\"upper left\", fontsize=6)\n",
      "leg.get_frame().set_edgecolor(fg_color)\n",
      "leg.get_frame().set_facecolor(bg_color)\n",
      "fig.patch.set_facecolor(bg_color)\n",
      "for t in leg.get_texts():\n",
      "    plt.setp(t, color=fg_color)\n",
      "ax.patch.set_facecolor(bg_color)\n",
      "ax.tick_params(which=\"both\", labelsize=7,colors=fg_color)\n",
      "for spine in ax.spines.values():\n",
      "    spine.set_color(fg_color)\n",
      "plt.savefig(\"output/fig-mean_shortest_path.eps\", dpi=300, facecolor=bg_color)"
     ],
     "language": "python",
     "metadata": {},
     "outputs": [],
     "prompt_number": 29
    },
    {
     "cell_type": "code",
     "collapsed": false,
     "input": [
      "fig = figure(figsize=(2,2))\n",
      "ax = plt.subplot(1,1,1)\n",
      "ax.tick_params(labelsize=7)\n",
      "set_fontsize(ax, 7)\n",
      "plt.title('Diameter', fontsize=9, color=fg_color)\n",
      "plt.xlabel('Number of vertices', color=fg_color)\n",
      "plt.ylabel('Diameter', color=fg_color)\n",
      "plt.semilogx(cube_df.as_matrix([\"N\"]), cube_df.as_matrix([\"diameter\"]), '-s', label=\"cube\", markersize=\"3\")\n",
      "plt.semilogx(bf_df.as_matrix([\"N\"]), bf_df.as_matrix([\"diameter\"]), '-x', label=\"butterfly\", markersize=4)\n",
      "plt.semilogx(nk_df.as_matrix([\"N\"]), nk_df.as_matrix([\"diameter\"]), '-*', label=\"nested\", markersize=4)\n",
      "leg = plt.legend(loc=\"upper left\", fontsize=6)\n",
      "leg.get_frame().set_edgecolor(fg_color)\n",
      "leg.get_frame().set_facecolor(bg_color)\n",
      "fig.patch.set_facecolor(bg_color)\n",
      "for t in leg.get_texts():\n",
      "    plt.setp(t, color=fg_color)\n",
      "ax.patch.set_facecolor(bg_color)\n",
      "ax.tick_params(which=\"both\", labelsize=7,colors=fg_color)\n",
      "for spine in ax.spines.values():\n",
      "    spine.set_color(fg_color)\n",
      "plt.tight_layout()\n",
      "plt.savefig(\"output/fig-diameter.eps\", dpi=300, facecolor=bg_color)"
     ],
     "language": "python",
     "metadata": {},
     "outputs": [],
     "prompt_number": 32
    },
    {
     "cell_type": "code",
     "collapsed": false,
     "input": [
      "cube_deg_df = pd.DataFrame.from_csv(\"output/degree_cube.csv\")\n",
      "bf_deg_df = pd.DataFrame.from_csv(\"output/degree_bf.csv\")\n",
      "nk_deg_df = pd.DataFrame.from_csv(\"output/degree_nk.csv\")"
     ],
     "language": "python",
     "metadata": {},
     "outputs": [],
     "prompt_number": 35
    },
    {
     "cell_type": "code",
     "collapsed": false,
     "input": [
      "fig = plt.figure(figsize=(2,2))\n",
      "ax = plt.subplot(1,1,1)\n",
      "set_fontsize(ax, 7)\n",
      "ax.tick_params(labelsize=7,color=fg_color)\n",
      "plt.title('Sparsity',fontsize=9, color=fg_color)\n",
      "plt.xlabel('Vertices',color=fg_color)\n",
      "plt.ylabel('Degree',color=fg_color)\n",
      "plt.semilogx(cube_deg_df.as_matrix([\"N\"]), cube_deg_df.as_matrix([\"degree\"]), '-s', label=\"cube\", markersize=2)\n",
      "plt.semilogx(bf_deg_df.as_matrix([\"N\"]), bf_deg_df.as_matrix([\"degree\"]), '-s', label=\"butterfly\", markersize=3)\n",
      "plt.semilogx(nk_deg_df.as_matrix([\"N\"]), nk_deg_df.as_matrix([\"degree\"]), '-s', label=\"nested\", markersize=3)\n",
      "leg = plt.legend(loc=\"upper left\", fontsize=6)\n",
      "leg.get_frame().set_edgecolor(fg_color)\n",
      "leg.get_frame().set_facecolor(bg_color)\n",
      "fig.patch.set_facecolor(bg_color)\n",
      "for t in leg.get_texts():\n",
      "    plt.setp(t, color=fg_color)\n",
      "ax.patch.set_facecolor(bg_color)\n",
      "ax.tick_params(which=\"both\", labelsize=7,colors=fg_color)\n",
      "for spine in ax.spines.values():\n",
      "    spine.set_color(fg_color)\n",
      "plt.tight_layout()\n",
      "plt.savefig(\"output/fig-degree.eps\", dpi=300, facecolor=bg_color)\n"
     ],
     "language": "python",
     "metadata": {},
     "outputs": [],
     "prompt_number": 39
    },
    {
     "cell_type": "code",
     "collapsed": false,
     "input": [
      "plt.figure(figsize=(7.5,2.5))\n",
      "\n",
      "ax = plt.subplot(1,3,1)\n",
      "set_fontsize(ax, 7)\n",
      "plt.title(\"Sparsity\", fontsize=9)\n",
      "ax.tick_params(labelsize=7)\n",
      "plt.xlabel('Vertices')\n",
      "plt.ylabel('Degree')\n",
      "plt.semilogx(cube_deg_df.as_matrix([\"N\"]), cube_deg_df.as_matrix([\"degree\"]), '-s', label=\"cube\", markersize=2)\n",
      "plt.semilogx(bf_deg_df.as_matrix([\"N\"]), bf_deg_df.as_matrix([\"degree\"]), '-s', label=\"cube\", markersize=3)\n",
      "plt.semilogx(nk_deg_df.as_matrix([\"N\"]), nk_deg_df.as_matrix([\"degree\"]), '-s', label=\"cube\", markersize=3)\n",
      "plt.legend(loc=\"upper left\", fontsize=6)\n",
      "\n",
      "ax = plt.subplot(1,3,2)\n",
      "ax.tick_params(labelsize=7)\n",
      "set_fontsize(ax, 7)\n",
      "plt.title('Mean path length', fontsize=9)\n",
      "plt.xlabel('Number of vertices')\n",
      "plt.ylabel('Path length')\n",
      "plt.semilogx(cube_df.as_matrix([\"N\"]), cube_df.as_matrix([\"mean_path\"]), '-s', label=\"cube\", markersize=3)\n",
      "plt.semilogx(bf_df.as_matrix([\"N\"]), bf_df.as_matrix([\"mean_path\"]), '-x', label=\"butterfly\", markersize=4)\n",
      "plt.semilogx(nk_df.as_matrix([\"N\"]), nk_df.as_matrix([\"mean_path\"]), '-*', label=\"nested\", markersize=4)\n",
      "plt.legend(loc=\"upper left\", fontsize=6)\n",
      "\n",
      "ax = plt.subplot(1,3,3)\n",
      "ax.tick_params(labelsize=7)\n",
      "set_fontsize(ax, 7)\n",
      "plt.title('Diameter', fontsize=9)\n",
      "plt.xlabel('Number of vertices')\n",
      "plt.ylabel('Path length')\n",
      "plt.semilogx(cube_df.as_matrix([\"N\"]), cube_df.as_matrix([\"diameter\"]), '-s', label=\"cube\", markersize=\"3\")\n",
      "plt.semilogx(bf_df.as_matrix([\"N\"]), bf_df.as_matrix([\"diameter\"]), '-x', label=\"butterfly\", markersize=4)\n",
      "plt.semilogx(nk_df.as_matrix([\"N\"]), nk_df.as_matrix([\"diameter\"]), '-*', label=\"nested\", markersize=4)\n",
      "plt.legend(loc=\"upper left\", fontsize=6)\n",
      "\n",
      "plt.tight_layout()\n",
      "plt.savefig(\"output/fig-sparsity-pathlength.eps\", dpi=300)"
     ],
     "language": "python",
     "metadata": {},
     "outputs": [],
     "prompt_number": 19
    },
    {
     "cell_type": "code",
     "collapsed": false,
     "input": [],
     "language": "python",
     "metadata": {},
     "outputs": []
    }
   ],
   "metadata": {}
  }
 ]
}
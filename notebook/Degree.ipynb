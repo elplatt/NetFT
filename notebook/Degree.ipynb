{
 "metadata": {
  "name": ""
 },
 "nbformat": 3,
 "nbformat_minor": 0,
 "worksheets": [
  {
   "cells": [
    {
     "cell_type": "code",
     "collapsed": false,
     "input": [
      "import numpy as np\n",
      "import matplotlib.pyplot as plt\n",
      "import pandas as pd"
     ],
     "language": "python",
     "metadata": {},
     "outputs": [],
     "prompt_number": 2
    },
    {
     "cell_type": "code",
     "collapsed": false,
     "input": [
      "cube_m = range(1, 23)\n",
      "cube_df = pd.DataFrame(index=cube_m, columns=[\"N\", \"degree\"])\n",
      "cube_df.loc[:]['N'] = [2**m for m in cube_m]\n",
      "cube_df.loc[:]['degree'] = cube_m\n",
      "bf_m = np.arange(1, 19)\n",
      "bf_df = pd.DataFrame(index=bf_m, columns=[\"N\", \"degree\"])\n",
      "bf_df.loc[:]['N'] = bf_m * np.array([2**m for m in bf_m])\n",
      "bf_df.loc[:]['degree'] = 4 * np.ones(bf_m.size)\n",
      "nk_m = np.arange(0,6)\n",
      "nk_df = pd.DataFrame(index=nk_m, columns=[\"N\", \"degree\"])\n",
      "nk_df.loc[:]['degree'] = nk_m\n",
      "for k in nk_m:\n",
      "    if k == 0:\n",
      "        nk_df.loc[k, 'N'] = 1\n",
      "    else:\n",
      "        nk_df.loc[k, 'N'] = nk_df.loc[k-1]['N'] * (nk_df.loc[k-1]['N'] + 1)"
     ],
     "language": "python",
     "metadata": {},
     "outputs": [],
     "prompt_number": 19
    },
    {
     "cell_type": "code",
     "collapsed": false,
     "input": [
      "cube_df.to_csv(\"output/degree_cube.csv\")\n",
      "bf_df.to_csv(\"output/degree_bf.csv\")\n",
      "nk_df.to_csv(\"output/degree_nk.csv\")"
     ],
     "language": "python",
     "metadata": {},
     "outputs": [],
     "prompt_number": 25
    }
   ],
   "metadata": {}
  }
 ]
}
{
 "metadata": {
  "name": ""
 },
 "nbformat": 3,
 "nbformat_minor": 0,
 "worksheets": [
  {
   "cells": [
    {
     "cell_type": "code",
     "collapsed": false,
     "input": [
      "import time\n",
      "import networkx as nx\n",
      "import numpy as np\n",
      "import matplotlib.pyplot as plt\n",
      "import networks.networks as nw\n",
      "import pandas as pd"
     ],
     "language": "python",
     "metadata": {},
     "outputs": [],
     "prompt_number": 23
    },
    {
     "cell_type": "code",
     "collapsed": false,
     "input": [
      "def find_distance(G, start):\n",
      "    '''Add a \"distance\" attribute to each node in G corresponding to the distance from <start>.'''\n",
      "    distance = 0\n",
      "    queue = set([start])\n",
      "    while len(queue) > 0:\n",
      "        next_queue = set()\n",
      "        for v in queue:\n",
      "            G.node[v]['distance'] = distance\n",
      "        for v in queue:\n",
      "            neighbors = set(G.neighbors(v))\n",
      "            next_queue.update(neighbors)\n",
      "            edges = [(v, w) for w in G.neighbors(v)]\n",
      "            G.remove_edges_from(edges)\n",
      "        next_queue.difference_update(queue)\n",
      "        queue = next_queue\n",
      "        distance += 1\n",
      "        \n",
      "def distance_histogram(G, start):\n",
      "    '''Return a tuple of two arrays suitable for plotting a vertex distance histogram.''' \n",
      "    find_distance(G, start)\n",
      "    distances = [v['distance'] for k, v in G.node.iteritems()]\n",
      "    max_distance = max(distances)\n",
      "    distance_points = np.arange(max_distance + 1)\n",
      "    count_points = np.array([len([z for z in distances if z == x]) for x in distance_points])\n",
      "    return (distance_points, count_points)"
     ],
     "language": "python",
     "metadata": {},
     "outputs": [],
     "prompt_number": 11
    },
    {
     "cell_type": "code",
     "collapsed": false,
     "input": [
      "def average_pathlength(dist, count):\n",
      "    count_array = np.array(count)\n",
      "    return (np.array(dist) * count_array).sum() / float(count_array.sum()) \n",
      "\n",
      "def median_pathlength(dist, count):\n",
      "    total = sum(count)\n",
      "    counted = 0\n",
      "    for i, ni in enumerate(count):\n",
      "        counted += ni\n",
      "        if counted >= total/2.0:\n",
      "            return dist[i]\n",
      "    return -1"
     ],
     "language": "python",
     "metadata": {},
     "outputs": [],
     "prompt_number": 12
    },
    {
     "cell_type": "code",
     "collapsed": false,
     "input": [
      "cube_m = range(23)\n",
      "cube_df = pd.DataFrame(index=cube_m, columns=[\"N\", \"mean_path\", \"median_path\", \"diameter\"])\n",
      "for m in cube_m:\n",
      "    (cube_dist, cube_count) = nw.Cube.pathlength_counts(m)\n",
      "    cube_df.loc[m]['N'] = sum(cube_count)\n",
      "    cube_df.loc[m]['mean_path'] = average_pathlength(cube_dist, cube_count)\n",
      "    cube_df.loc[m]['median_path'] = median_pathlength(cube_dist, cube_count)\n",
      "    cube_df.loc[m]['diameter'] = max(cube_dist)"
     ],
     "language": "python",
     "metadata": {},
     "outputs": [],
     "prompt_number": 29
    },
    {
     "cell_type": "code",
     "collapsed": false,
     "input": [
      "butterfly_m = range(18)\n",
      "bf_df = pd.DataFrame(index=butterfly_m, columns=[\"N\", \"mean_path\", \"median_path\", \"diameter\"])\n",
      "for m in butterfly_m:\n",
      "    butterfly = nw.Butterfly.makeGraph(m)\n",
      "    (butterfly_dist, butterfly_count) = distance_histogram(butterfly, (0,0))\n",
      "    bf_df.loc[m][\"N\"] = sum(butterfly_count)\n",
      "    bf_df.loc[m][\"mean_path\"] = average_pathlength(butterfly_dist, butterfly_count)\n",
      "    bf_df.loc[m][\"median_path\"] = median_pathlength(butterfly_dist, butterfly_count)\n",
      "    bf_df.loc[m][\"diameter\"] = max(butterfly_dist)\n",
      "    del butterfly"
     ],
     "language": "python",
     "metadata": {},
     "outputs": [],
     "prompt_number": 30
    },
    {
     "cell_type": "code",
     "collapsed": false,
     "input": [
      "nested_m = range(6)\n",
      "nk_df = pd.DataFrame(index=nested_m, columns=[\"N\", \"mean_path\", \"median_path\", \"diameter\"])\n",
      "for m in nested_m:\n",
      "    (nested_dist, nested_count) = nw.NestedClique.path_length_histogram(m)\n",
      "    nk_df.loc[m][\"N\"] = sum(nested_count)\n",
      "    nk_df.loc[m][\"mean_path\"] = average_pathlength(nested_dist, nested_count)\n",
      "    nk_df.loc[m][\"median_path\"] = median_pathlength(nested_dist, nested_count)\n",
      "    nk_df.loc[m][\"diameter\"] = max(nested_dist)"
     ],
     "language": "python",
     "metadata": {},
     "outputs": [],
     "prompt_number": 31
    },
    {
     "cell_type": "code",
     "collapsed": false,
     "input": [
      "cube_df.to_csv(\"output/pathlength_cube.csv\")\n",
      "bf_df.to_csv(\"output/pathlength_bf.csv\")\n",
      "nk_df.to_csv(\"output/pathlength_nk.csv\")"
     ],
     "language": "python",
     "metadata": {},
     "outputs": [],
     "prompt_number": 32
    },
    {
     "cell_type": "code",
     "collapsed": false,
     "input": [
      "p = plt.plot(cube_dist, cube_count, 's-', label=\"cube\")\n",
      "p = plt.plot(butterfly_dist, butterfly_count, 'd-', label=\"butterfly\")\n",
      "p = plt.plot(nested_dist, nested_count, 'o-', label=\"nested\")\n",
      "plt.title(\"Distribution of shortest path lengths\")\n",
      "plt.xlabel(\"Path length\")\n",
      "plt.ylabel(\"Count\")\n",
      "plt.legend()"
     ],
     "language": "python",
     "metadata": {},
     "outputs": [],
     "prompt_number": 35
    },
    {
     "cell_type": "code",
     "collapsed": false,
     "input": [],
     "language": "python",
     "metadata": {},
     "outputs": []
    }
   ],
   "metadata": {}
  }
 ]
}